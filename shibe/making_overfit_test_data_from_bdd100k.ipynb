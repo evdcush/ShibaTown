{
 "cells": [
  {
   "cell_type": "code",
   "execution_count": null,
   "metadata": {},
   "outputs": [],
   "source": [
    "import os\n",
    "\n",
    "import numpy as np\n",
    "\n",
    "import mmcv\n",
    "from mmengine import load, dump"
   ]
  },
  {
   "cell_type": "code",
   "execution_count": null,
   "metadata": {},
   "outputs": [],
   "source": [
    "# PATHING\n",
    "# =======\n",
    "# Directories.\n",
    "HOME_ROOT = os.getenv('HOME')\n",
    "DATA_ROOT = os.path.join(HOME_ROOT, '.Data/bdd/bdd100k')\n",
    "IMAGES_ROOT = f\"{DATA_ROOT}/images/100k\"\n",
    "train_images_dir = f\"{IMAGES_ROOT}/train\"\n",
    "ANNOS_ROOT = f\"{DATA_ROOT}/labels/det_20\" # det_train.json, det_val.json\n",
    "\n",
    "# Files\n",
    "det_train_fpath = f\"{ANNOS_ROOT}/det_train.json\"\n",
    "det_val_fpath = f\"{ANNOS_ROOT}/det_val.json\""
   ]
  },
  {
   "cell_type": "code",
   "execution_count": null,
   "metadata": {},
   "outputs": [],
   "source": [
    "# Load train annos.\n",
    "data = load(det_train_fpath)"
   ]
  },
  {
   "cell_type": "code",
   "execution_count": null,
   "metadata": {},
   "outputs": [
    {
     "data": {
      "text/plain": [
       "list"
      ]
     },
     "execution_count": null,
     "metadata": {},
     "output_type": "execute_result"
    }
   ],
   "source": [
    "type(data)"
   ]
  },
  {
   "cell_type": "code",
   "execution_count": null,
   "metadata": {},
   "outputs": [
    {
     "data": {
      "text/plain": [
       "dict"
      ]
     },
     "execution_count": null,
     "metadata": {},
     "output_type": "execute_result"
    }
   ],
   "source": [
    "type(data[0])"
   ]
  },
  {
   "cell_type": "code",
   "execution_count": null,
   "metadata": {},
   "outputs": [
    {
     "data": {
      "text/plain": [
       "69863"
      ]
     },
     "execution_count": null,
     "metadata": {},
     "output_type": "execute_result"
    }
   ],
   "source": [
    "len(data)"
   ]
  },
  {
   "cell_type": "code",
   "execution_count": null,
   "metadata": {},
   "outputs": [
    {
     "data": {
      "text/plain": [
       "dict_keys(['name', 'attributes', 'timestamp', 'labels'])"
      ]
     },
     "execution_count": null,
     "metadata": {},
     "output_type": "execute_result"
    }
   ],
   "source": [
    "data[0].keys()"
   ]
  },
  {
   "cell_type": "code",
   "execution_count": null,
   "metadata": {},
   "outputs": [],
   "source": [
    "# Okay, list[dict], that makes life easy.\n",
    "# Let's just take however many samples we desire for our overfit test data.\n",
    "import random\n",
    "\n",
    "k = 13\n",
    "seed = 42069\n",
    "random.seed(seed)\n",
    "overfit_test_data = random.choices(data, k=k)"
   ]
  },
  {
   "cell_type": "code",
   "execution_count": null,
   "metadata": {},
   "outputs": [
    {
     "data": {
      "text/plain": [
       "13"
      ]
     },
     "execution_count": null,
     "metadata": {},
     "output_type": "execute_result"
    }
   ],
   "source": [
    "len(overfit_test_data)"
   ]
  },
  {
   "cell_type": "code",
   "execution_count": null,
   "metadata": {},
   "outputs": [
    {
     "data": {
      "text/plain": [
       "{'name': '966ce84f-e03e0697.jpg',\n",
       " 'attributes': {'weather': 'clear', 'timeofday': 'night', 'scene': 'highway'},\n",
       " 'timestamp': 10000,\n",
       " 'labels': [{'id': '1067402',\n",
       "   'attributes': {'occluded': False,\n",
       "    'truncated': False,\n",
       "    'trafficLightColor': 'R'},\n",
       "   'category': 'traffic light',\n",
       "   'box2d': {'x1': 258.401191,\n",
       "    'y1': 193.816491,\n",
       "    'x2': 271.58085,\n",
       "    'y2': 205.897843}},\n",
       "  {'id': '1067403',\n",
       "   'attributes': {'occluded': False,\n",
       "    'truncated': False,\n",
       "    'trafficLightColor': 'R'},\n",
       "   'category': 'traffic light',\n",
       "   'box2d': {'x1': 639.1967567011496,\n",
       "    'y1': 177.18900711446346,\n",
       "    'x2': 653.3925255431986,\n",
       "    'y2': 189.44898929623307}},\n",
       "  {'id': '1067404',\n",
       "   'attributes': {'occluded': False,\n",
       "    'truncated': False,\n",
       "    'trafficLightColor': 'NA'},\n",
       "   'category': 'car',\n",
       "   'box2d': {'x1': 557.6780546602794,\n",
       "    'y1': 246.5969523205588,\n",
       "    'x2': 580.2197881846748,\n",
       "    'y2': 257.58868121495635}},\n",
       "  {'id': '1067405',\n",
       "   'attributes': {'occluded': False,\n",
       "    'truncated': False,\n",
       "    'trafficLightColor': 'NA'},\n",
       "   'category': 'car',\n",
       "   'box2d': {'x1': 311.039938,\n",
       "    'y1': 253.708425,\n",
       "    'x2': 361.561961,\n",
       "    'y2': 285.559269}},\n",
       "  {'id': '1067406',\n",
       "   'attributes': {'occluded': False,\n",
       "    'truncated': False,\n",
       "    'trafficLightColor': 'NA'},\n",
       "   'category': 'car',\n",
       "   'box2d': {'x1': 593.1671002009313,\n",
       "    'y1': 242.27233522009308,\n",
       "    'x2': 629.9049791318464,\n",
       "    'y2': 267.2676145163534}},\n",
       "  {'id': '1067407',\n",
       "   'attributes': {'occluded': True,\n",
       "    'truncated': False,\n",
       "    'trafficLightColor': 'NA'},\n",
       "   'category': 'car',\n",
       "   'box2d': {'x1': 708.040565,\n",
       "    'y1': 206.847419,\n",
       "    'x2': 824.460882,\n",
       "    'y2': 320.3243157026254}},\n",
       "  {'id': '1067408',\n",
       "   'attributes': {'occluded': True,\n",
       "    'truncated': False,\n",
       "    'trafficLightColor': 'NA'},\n",
       "   'category': 'car',\n",
       "   'box2d': {'x1': 779.430383,\n",
       "    'y1': 214.09431281641727,\n",
       "    'x2': 945.27442,\n",
       "    'y2': 347.5627779811403}},\n",
       "  {'id': '1067409',\n",
       "   'attributes': {'occluded': True,\n",
       "    'truncated': False,\n",
       "    'trafficLightColor': 'NA'},\n",
       "   'category': 'car',\n",
       "   'box2d': {'x1': 911.226968,\n",
       "    'y1': 217.7261077868859,\n",
       "    'x2': 1181.24131414493,\n",
       "    'y2': 383.308401}},\n",
       "  {'id': '1067410',\n",
       "   'attributes': {'occluded': False,\n",
       "    'truncated': True,\n",
       "    'trafficLightColor': 'NA'},\n",
       "   'category': 'car',\n",
       "   'box2d': {'x1': 1143.157404135853,\n",
       "    'y1': 283.28681731212475,\n",
       "    'x2': 1276.669582,\n",
       "    'y2': 437.564664}},\n",
       "  {'id': '1067411',\n",
       "   'attributes': {'occluded': False,\n",
       "    'truncated': False,\n",
       "    'trafficLightColor': 'NA'},\n",
       "   'category': 'car',\n",
       "   'box2d': {'x1': 440.1978864244641,\n",
       "    'y1': 242.7476501528142,\n",
       "    'x2': 456.01618,\n",
       "    'y2': 251.511816}},\n",
       "  {'id': '1067412',\n",
       "   'attributes': {'occluded': False,\n",
       "    'truncated': False,\n",
       "    'trafficLightColor': 'NA'},\n",
       "   'category': 'car',\n",
       "   'box2d': {'x1': 415.378901,\n",
       "    'y1': 242.725379,\n",
       "    'x2': 431.853475,\n",
       "    'y2': 255.0076323345838}}]}"
      ]
     },
     "execution_count": null,
     "metadata": {},
     "output_type": "execute_result"
    }
   ],
   "source": [
    "overfit_test_data[0]"
   ]
  },
  {
   "cell_type": "code",
   "execution_count": null,
   "metadata": {},
   "outputs": [
    {
     "name": "stdout",
     "output_type": "stream",
     "text": [
      "['/home/evan/.Data/bdd/bdd100k/images/100k/train/966ce84f-e03e0697.jpg', '/home/evan/.Data/bdd/bdd100k/images/100k/train/9a1d74fb-93c56fe0.jpg', '/home/evan/.Data/bdd/bdd100k/images/100k/train/104409d4-c9800471.jpg', '/home/evan/.Data/bdd/bdd100k/images/100k/train/43f373b6-f9e4f050.jpg', '/home/evan/.Data/bdd/bdd100k/images/100k/train/2032bc98-e3827882.jpg', '/home/evan/.Data/bdd/bdd100k/images/100k/train/a0fd0237-4ca56bbe.jpg', '/home/evan/.Data/bdd/bdd100k/images/100k/train/576733c5-7465267d.jpg', '/home/evan/.Data/bdd/bdd100k/images/100k/train/65ee894d-f740d9ca.jpg', '/home/evan/.Data/bdd/bdd100k/images/100k/train/3a7ccba7-cf9980d4.jpg', '/home/evan/.Data/bdd/bdd100k/images/100k/train/ae08e429-98695ed8.jpg', '/home/evan/.Data/bdd/bdd100k/images/100k/train/a6d12e21-fc3e2cb4.jpg', '/home/evan/.Data/bdd/bdd100k/images/100k/train/4172f136-adc862a0.jpg', '/home/evan/.Data/bdd/bdd100k/images/100k/train/2233ded5-e632af44.jpg']\n"
     ]
    }
   ],
   "source": [
    "# Okay, we can serialize the labels into a json now.\n",
    "# But before that, get the image filenames and copy those to a new dir.\n",
    "image_filenames = [datum['name'] for datum in overfit_test_data]\n",
    "image_filepaths = [f'{train_images_dir}/{fname}' for fname in image_filenames]\n",
    "print(image_filepaths)"
   ]
  },
  {
   "cell_type": "code",
   "execution_count": null,
   "metadata": {},
   "outputs": [
    {
     "name": "stdout",
     "output_type": "stream",
     "text": [
      "Copied:  /home/evan/.Data/bdd/bdd100k/images/100k/train/966ce84f-e03e0697.jpg\n",
      "Copied:  /home/evan/.Data/bdd/bdd100k/images/100k/train/9a1d74fb-93c56fe0.jpg\n",
      "Copied:  /home/evan/.Data/bdd/bdd100k/images/100k/train/104409d4-c9800471.jpg\n",
      "Copied:  /home/evan/.Data/bdd/bdd100k/images/100k/train/43f373b6-f9e4f050.jpg\n",
      "Copied:  /home/evan/.Data/bdd/bdd100k/images/100k/train/2032bc98-e3827882.jpg\n",
      "Copied:  /home/evan/.Data/bdd/bdd100k/images/100k/train/a0fd0237-4ca56bbe.jpg\n",
      "Copied:  /home/evan/.Data/bdd/bdd100k/images/100k/train/576733c5-7465267d.jpg\n",
      "Copied:  /home/evan/.Data/bdd/bdd100k/images/100k/train/65ee894d-f740d9ca.jpg\n",
      "Copied:  /home/evan/.Data/bdd/bdd100k/images/100k/train/3a7ccba7-cf9980d4.jpg\n",
      "Copied:  /home/evan/.Data/bdd/bdd100k/images/100k/train/ae08e429-98695ed8.jpg\n",
      "Copied:  /home/evan/.Data/bdd/bdd100k/images/100k/train/a6d12e21-fc3e2cb4.jpg\n",
      "Copied:  /home/evan/.Data/bdd/bdd100k/images/100k/train/4172f136-adc862a0.jpg\n",
      "Copied:  /home/evan/.Data/bdd/bdd100k/images/100k/train/2233ded5-e632af44.jpg\n"
     ]
    }
   ],
   "source": [
    "import shutil\n",
    "\n",
    "# Setup paths and makedirs.\n",
    "destination_dir = f\"{IMAGES_ROOT}/overfit_data/det20_overfit_A/100k/train\"\n",
    "if not os.path.exists(destination_dir):\n",
    "    os.makedirs(destination_dir)\n",
    "\n",
    "# Now copy everything over.\n",
    "for filepath in image_filepaths:\n",
    "    print('Copied: ', filepath)\n",
    "    shutil.copy(filepath, destination_dir)"
   ]
  },
  {
   "cell_type": "code",
   "execution_count": null,
   "metadata": {},
   "outputs": [],
   "source": [
    "destination_dir = '/home/evan/.Data/bdd/bdd100k/overfit_data/det20_overfit_A/100k/train'"
   ]
  },
  {
   "cell_type": "code",
   "execution_count": null,
   "metadata": {},
   "outputs": [
    {
     "name": "stdout",
     "output_type": "stream",
     "text": [
      "104409d4-c9800471.jpg  43f373b6-f9e4f050.jpg  a0fd0237-4ca56bbe.jpg\n",
      "2032bc98-e3827882.jpg  576733c5-7465267d.jpg  a6d12e21-fc3e2cb4.jpg\n",
      "2233ded5-e632af44.jpg  65ee894d-f740d9ca.jpg  ae08e429-98695ed8.jpg\n",
      "3a7ccba7-cf9980d4.jpg  966ce84f-e03e0697.jpg\n",
      "4172f136-adc862a0.jpg  9a1d74fb-93c56fe0.jpg\n"
     ]
    }
   ],
   "source": [
    "ls $destination_dir"
   ]
  },
  {
   "cell_type": "code",
   "execution_count": null,
   "metadata": {},
   "outputs": [],
   "source": [
    "# Cool, all there.\n",
    "# Now let's dump our labels.\n",
    "dst_labels = '/home/evan/.Data/bdd/bdd100k/overfit_data/det20_overfit_A/labels/det_20/train/det_train.json'\n",
    "dump(overfit_test_data, dst_labels)"
   ]
  },
  {
   "cell_type": "code",
   "execution_count": null,
   "metadata": {},
   "outputs": [
    {
     "name": "stdout",
     "output_type": "stream",
     "text": [
      "/home/evan/.Data/bdd/bdd100k/overfit_data/det20_overfit_A/labels/det_20/train/det_train.json\n"
     ]
    }
   ],
   "source": [
    "ls $dst_labels"
   ]
  },
  {
   "cell_type": "code",
   "execution_count": null,
   "metadata": {},
   "outputs": [],
   "source": [
    "# (archived in terminal, all set!)\n",
    "# /home/evan/.Data/bdd/bdd100k/overfit_data/det20_train_overfit_0xa455.zip"
   ]
  }
 ],
 "metadata": {
  "kernelspec": {
   "display_name": "3112",
   "language": "python",
   "name": "python3"
  },
  "language_info": {
   "codemirror_mode": {
    "name": "ipython",
    "version": 3
   },
   "file_extension": ".py",
   "mimetype": "text/x-python",
   "name": "python",
   "nbconvert_exporter": "python",
   "pygments_lexer": "ipython3",
   "version": "3.11.2"
  }
 },
 "nbformat": 4,
 "nbformat_minor": 2
}
