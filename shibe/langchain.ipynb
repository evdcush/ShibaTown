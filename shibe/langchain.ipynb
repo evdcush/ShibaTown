{
 "cells": [
  {
   "attachments": {},
   "cell_type": "markdown",
   "metadata": {},
   "source": [
    "# LangChain 🦜🔗\n",
    "> LangChain is a framework for developing applications powered by language models.\n",
    "\n",
    "Documentation: https://python.langchain.com/\n",
    "- Quickstart: https://python.langchain.com/en/latest/getting_started/getting_started.html\n",
    "\n",
    "This notebook is a sandbox for LangChain."
   ]
  },
  {
   "cell_type": "code",
   "execution_count": null,
   "metadata": {},
   "outputs": [],
   "source": [
    "import os\n",
    "\n",
    "\n",
    "# The \"quickstart\" assumes you have exported the nnv\n",
    "# var ``OPENAI_API_KEY``, so set that up first!"
   ]
  },
  {
   "attachments": {},
   "cell_type": "markdown",
   "metadata": {},
   "source": [
    "# LLM Applications\n",
    "The most basic block of LangChain is calling an LLM on some input.\n",
    "\n",
    "Let's pretend we are building a service that generates a company name based on what the company makes."
   ]
  },
  {
   "cell_type": "code",
   "execution_count": 1,
   "metadata": {},
   "outputs": [],
   "source": [
    "# First, import the LLM wrapper\n",
    "from langchain.llms import OpenAI"
   ]
  },
  {
   "cell_type": "code",
   "execution_count": null,
   "metadata": {},
   "outputs": [],
   "source": []
  }
 ],
 "metadata": {
  "kernelspec": {
   "display_name": "3112",
   "language": "python",
   "name": "python3"
  },
  "language_info": {
   "codemirror_mode": {
    "name": "ipython",
    "version": 3
   },
   "file_extension": ".py",
   "mimetype": "text/x-python",
   "name": "python",
   "nbconvert_exporter": "python",
   "pygments_lexer": "ipython3",
   "version": "3.11.2"
  },
  "orig_nbformat": 4
 },
 "nbformat": 4,
 "nbformat_minor": 2
}
