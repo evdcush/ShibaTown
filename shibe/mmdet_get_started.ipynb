{
 "cells": [
  {
   "cell_type": "markdown",
   "metadata": {},
   "source": [
    "# MMDetection\n",
    "\"Get Started\" tutorial:\n",
    "https://mmdetection.readthedocs.io/en/latest/get_started.html\n",
    "\n",
    "### Setup\n",
    "I use a pyenv-managed venv for development.\n",
    "I do not use conda, nor did I use MMLab's `mim` to install `mmdet`,\n",
    "nor did I install from source.\n",
    "\n",
    "I decided to simply `pip install mmdet`.\n",
    "\n",
    "Let's see how this goes."
   ]
  },
  {
   "cell_type": "markdown",
   "metadata": {},
   "source": [
    "#### Verify the installation\n",
    "They provide some example files to run an inference demo.\n",
    "\n",
    "These files are directly available if you installed from source:\n",
    "\n",
    "```\n",
    "python demo/image_demo.py demo/demo.jpg rtmdet_tiny_8xb32-300e_coco.py \\\n",
    "--weights rtmdet_tiny_8xb32-300e_coco_20220902_112414-78e30dcc.pth \\\n",
    "--device cpu\n",
    "```\n",
    "\n",
    "\n",
    "Otherwise you are directed to use `mim` to download these demo files, eg:\n",
    "\n",
    "```\n",
    "mim download mmdet --config rtmdet_tiny_8xb32-300e_coco --dest .\n",
    "```\n",
    "\n",
    "Since we used none of these methods for installation, \n",
    "let's just see what's available."
   ]
  },
  {
   "cell_type": "code",
   "execution_count": 1,
   "metadata": {},
   "outputs": [
    {
     "name": "stdout",
     "output_type": "stream",
     "text": [
      "3.2.0\n"
     ]
    }
   ],
   "source": [
    "import mmdet\n",
    "print(mmdet.__version__)\n"
   ]
  },
  {
   "cell_type": "code",
   "execution_count": 2,
   "metadata": {},
   "outputs": [
    {
     "name": "stdout",
     "output_type": "stream",
     "text": [
      "Help on package mmdet:\n",
      "\n",
      "NAME\n",
      "    mmdet - # Copyright (c) OpenMMLab. All rights reserved.\n",
      "\n",
      "PACKAGE CONTENTS\n",
      "    apis (package)\n",
      "    datasets (package)\n",
      "    engine (package)\n",
      "    evaluation (package)\n",
      "    models (package)\n",
      "    registry\n",
      "    structures (package)\n",
      "    testing (package)\n",
      "    utils (package)\n",
      "    version\n",
      "    visualization (package)\n",
      "\n",
      "FUNCTIONS\n",
      "    digit_version(version_str: str, length: int = 4)\n",
      "        Convert a version string into a tuple of integers.\n",
      "        \n",
      "        This method is usually used for comparing two versions. For pre-release\n",
      "        versions: alpha < beta < rc.\n",
      "        \n",
      "        Args:\n",
      "            version_str (str): The version string.\n",
      "            length (int): The maximum number of version levels. Defaults to 4.\n",
      "        \n",
      "        Returns:\n",
      "            tuple[int]: The version info in digits (integers).\n",
      "\n",
      "DATA\n",
      "    __all__ = ['__version__', 'version_info', 'digit_version']\n",
      "    version_info = (3, 2, 0)\n",
      "\n",
      "VERSION\n",
      "    3.2.0\n",
      "\n",
      "FILE\n",
      "    /home/evan-cushing/.pyenv/versions/3.11.6/envs/3116/lib/python3.11/site-packages/mmdet/__init__.py\n",
      "\n",
      "\n"
     ]
    }
   ],
   "source": [
    "help(mmdet)\n"
   ]
  },
  {
   "cell_type": "markdown",
   "metadata": {},
   "source": [
    "#### Installation, pt deux\n",
    "Okay, through default `pip` installation, mmdet was deeply borked.\n",
    "It was absolutely unable to run, always returning the error:\n",
    "\n",
    "```\n",
    "ModuleNotFoundError: No module named 'mmcv._ext'\n",
    "```\n",
    "\n",
    "The problem seems be with `mmcv`.\n",
    "You cannot \"just install it\" with `pip`.\n",
    "You have to install the correct target package for your system.\n",
    "\n",
    "Refer to this:\n",
    "\n",
    "https://mmcv.readthedocs.io/en/latest/get_started/installation.html#install-with-pip\n",
    "\n",
    "Now:\n",
    "\n",
    "```\n",
    "pip install mmcv==2.1.0 -f https://download.openmmlab.com/mmcv/dist/cu121/torch2.1/index.html\n",
    "```\n",
    "\n",
    "Then:\n",
    "\n",
    "```\n",
    "pip install mmengine\n",
    "pip install mmdet mmpretrain\n",
    "```\n",
    "\n",
    "Now confirm `mmdet` is not fricking borked; in an interpreter:\n",
    "\n",
    "```\n",
    "from mmdet import apis\n",
    "```\n",
    "\n",
    "Should now \"just work\".\n",
    "\n",
    "Sheesh."
   ]
  },
  {
   "cell_type": "code",
   "execution_count": 3,
   "metadata": {},
   "outputs": [],
   "source": [
    "from mmdet import apis, datasets, engine, evaluation, models, registry\n",
    "from mmdet import structures, testing, utils, visualization\n"
   ]
  },
  {
   "cell_type": "code",
   "execution_count": null,
   "metadata": {},
   "outputs": [],
   "source": []
  }
 ],
 "metadata": {
  "kernelspec": {
   "display_name": "Python 3",
   "language": "python",
   "name": "python3"
  },
  "language_info": {
   "codemirror_mode": {
    "name": "ipython",
    "version": 3
   },
   "file_extension": ".py",
   "mimetype": "text/x-python",
   "name": "python",
   "nbconvert_exporter": "python",
   "pygments_lexer": "ipython3",
   "version": "3.11.6"
  }
 },
 "nbformat": 4,
 "nbformat_minor": 2
}
